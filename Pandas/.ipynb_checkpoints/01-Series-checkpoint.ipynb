{
 "cells": [
  {
   "cell_type": "code",
   "execution_count": 4,
   "id": "a75c4c68-efed-42c5-9189-08d47400e3fb",
   "metadata": {},
   "outputs": [],
   "source": [
    "import numpy as np\n",
    "import pandas as pd"
   ]
  },
  {
   "cell_type": "markdown",
   "id": "8d706c00-7d71-4d0f-bc05-d8e09d7db527",
   "metadata": {},
   "source": [
    "#### Seriler Numpy Dizisinin üstüne inşa edilmiş ancak daha esnek bir yapıya sahip. Sadece index ve değere sahip değil daha esnek."
   ]
  },
  {
   "cell_type": "code",
   "execution_count": 30,
   "id": "20d48b1f-414c-4257-8d1b-b1deeee43e81",
   "metadata": {},
   "outputs": [],
   "source": [
    "benimSozlugum = {\"Doğukan\":50,\"Zeynep\":30,\"Mehmet\":40}"
   ]
  },
  {
   "cell_type": "code",
   "execution_count": 31,
   "id": "afb0af5d-bfe6-4184-bc0f-0c61a03354f7",
   "metadata": {},
   "outputs": [
    {
     "data": {
      "text/plain": [
       "Doğukan    50\n",
       "Zeynep     30\n",
       "Mehmet     40\n",
       "dtype: int64"
      ]
     },
     "execution_count": 31,
     "metadata": {},
     "output_type": "execute_result"
    }
   ],
   "source": [
    "pd.Series(benimSozlugum) # s büyük."
   ]
  },
  {
   "cell_type": "code",
   "execution_count": 25,
   "id": "d3cb7b61-60eb-4072-997e-64f0ac58a04b",
   "metadata": {},
   "outputs": [],
   "source": [
    "benimYaslarim = [50,30,40]\n",
    "benimAdlarim = [\"Doğukan\",\"Zeynep\",\"Mehmet\"]"
   ]
  },
  {
   "cell_type": "code",
   "execution_count": 26,
   "id": "673bbf85-90e6-498b-9830-42424e7ca0f2",
   "metadata": {},
   "outputs": [
    {
     "data": {
      "text/plain": [
       "Doğukan    50\n",
       "Zeynep     30\n",
       "Mehmet     40\n",
       "dtype: int64"
      ]
     },
     "execution_count": 26,
     "metadata": {},
     "output_type": "execute_result"
    }
   ],
   "source": [
    "pd.Series(data = benimYaslarim,index = benimAdlarim)"
   ]
  },
  {
   "cell_type": "code",
   "execution_count": 27,
   "id": "775a22f9-fbfb-4cc4-9618-58bfe7881690",
   "metadata": {},
   "outputs": [],
   "source": [
    "numpyDizisi = np.array([50,30,40])"
   ]
  },
  {
   "cell_type": "code",
   "execution_count": 28,
   "id": "683a357b-2109-4fa2-8409-c2ef182aa7db",
   "metadata": {},
   "outputs": [
    {
     "data": {
      "text/plain": [
       "array([50, 30, 40])"
      ]
     },
     "execution_count": 28,
     "metadata": {},
     "output_type": "execute_result"
    }
   ],
   "source": [
    "numpyDizisi"
   ]
  },
  {
   "cell_type": "code",
   "execution_count": 29,
   "id": "4d96faeb-be96-45ea-a7f2-90d88c17493f",
   "metadata": {},
   "outputs": [
    {
     "data": {
      "text/plain": [
       "Doğukan    50\n",
       "Zeynep     30\n",
       "Mehmet     40\n",
       "dtype: int32"
      ]
     },
     "execution_count": 29,
     "metadata": {},
     "output_type": "execute_result"
    }
   ],
   "source": [
    "pd.Series(numpyDizisi,benimAdlarim)"
   ]
  },
  {
   "cell_type": "code",
   "execution_count": 34,
   "id": "9d25617f-8a23-460a-af55-b3264e86df64",
   "metadata": {},
   "outputs": [
    {
     "data": {
      "text/plain": [
       "Ahmet      1\n",
       "Doğukan    2\n",
       "Osman      3\n",
       "dtype: int64"
      ]
     },
     "execution_count": 34,
     "metadata": {},
     "output_type": "execute_result"
    }
   ],
   "source": [
    "pd.Series(index = [\"Ahmet\",\"Doğukan\",\"Osman\"], data = [1,2,3])"
   ]
  },
  {
   "cell_type": "code",
   "execution_count": 38,
   "id": "5ffc4f56-90ef-4b5e-9fc0-c1a1d1f45c6c",
   "metadata": {},
   "outputs": [],
   "source": [
    "yarismaSonucu1 = pd.Series([10,5,1],[\"Ahmet\",\"Doğukan\",\"Osman\"])"
   ]
  },
  {
   "cell_type": "code",
   "execution_count": 39,
   "id": "1f4b1c12-53e8-4b47-a02c-001ec0f2789b",
   "metadata": {},
   "outputs": [
    {
     "data": {
      "text/plain": [
       "Ahmet      10\n",
       "Doğukan     5\n",
       "Osman       1\n",
       "dtype: int64"
      ]
     },
     "execution_count": 39,
     "metadata": {},
     "output_type": "execute_result"
    }
   ],
   "source": [
    "yarismaSonucu1"
   ]
  },
  {
   "cell_type": "code",
   "execution_count": 40,
   "id": "f4dda64d-b2c6-4940-94e5-8053ad3c29e5",
   "metadata": {},
   "outputs": [],
   "source": [
    "yarismaSonucu2 = pd.Series([20,10,8],[\"Ahmet\",\"Doğukan\",\"Osman\"])"
   ]
  },
  {
   "cell_type": "code",
   "execution_count": 42,
   "id": "e106a6cb-4879-4b63-bee0-59e899d0a5cf",
   "metadata": {},
   "outputs": [
    {
     "data": {
      "text/plain": [
       "Ahmet      20\n",
       "Doğukan    10\n",
       "Osman       8\n",
       "dtype: int64"
      ]
     },
     "execution_count": 42,
     "metadata": {},
     "output_type": "execute_result"
    }
   ],
   "source": [
    "yarismaSonucu2"
   ]
  },
  {
   "cell_type": "code",
   "execution_count": 44,
   "id": "7d21ae26-efbe-4883-b83b-bf8a000e84c8",
   "metadata": {},
   "outputs": [
    {
     "data": {
      "text/plain": [
       "10"
      ]
     },
     "execution_count": 44,
     "metadata": {},
     "output_type": "execute_result"
    }
   ],
   "source": [
    "yarismaSonucu2[\"Doğukan\"]"
   ]
  },
  {
   "cell_type": "code",
   "execution_count": 45,
   "id": "7ec6e3d9-fccd-4543-b870-d73a8e4d8308",
   "metadata": {},
   "outputs": [],
   "source": [
    "sonSonuc = yarismaSonucu1 + yarismaSonucu2"
   ]
  },
  {
   "cell_type": "code",
   "execution_count": 46,
   "id": "15424c4d-42eb-4a03-bbf4-c92e0c08a2ac",
   "metadata": {},
   "outputs": [
    {
     "data": {
      "text/plain": [
       "Ahmet      30\n",
       "Doğukan    15\n",
       "Osman       9\n",
       "dtype: int64"
      ]
     },
     "execution_count": 46,
     "metadata": {},
     "output_type": "execute_result"
    }
   ],
   "source": [
    "sonSonuc"
   ]
  },
  {
   "cell_type": "code",
   "execution_count": 48,
   "id": "38862466-aded-41e9-a853-9490f928d6e8",
   "metadata": {},
   "outputs": [],
   "source": [
    "farkliSeries1 = pd.Series([20,30,40,50],[\"a\",\"b\",\"c\",\"d\"])"
   ]
  },
  {
   "cell_type": "code",
   "execution_count": 49,
   "id": "d3b662c8-9400-452e-8c17-116f8fbb3135",
   "metadata": {},
   "outputs": [],
   "source": [
    "farkliSeries2 = pd.Series([10,5,3,79],[\"a\",\"d\",\"f\",\"g\"])"
   ]
  },
  {
   "cell_type": "code",
   "execution_count": 56,
   "id": "a895bd58-fad7-451c-993a-c67ef3a704e6",
   "metadata": {},
   "outputs": [],
   "source": [
    "sonSeries = farkliSeries1 + farkliSeries2"
   ]
  },
  {
   "cell_type": "code",
   "execution_count": 57,
   "id": "ef0b3ee9-5009-41d0-a4b3-f0696643db3a",
   "metadata": {},
   "outputs": [
    {
     "data": {
      "text/plain": [
       "a    30.0\n",
       "b     NaN\n",
       "c     NaN\n",
       "d    55.0\n",
       "f     NaN\n",
       "g     NaN\n",
       "dtype: float64"
      ]
     },
     "execution_count": 57,
     "metadata": {},
     "output_type": "execute_result"
    }
   ],
   "source": [
    "sonSeries"
   ]
  },
  {
   "cell_type": "code",
   "execution_count": null,
   "id": "eab1802a-6984-46b6-b262-9c196fca5975",
   "metadata": {},
   "outputs": [],
   "source": []
  }
 ],
 "metadata": {
  "kernelspec": {
   "display_name": "Python 3 (ipykernel)",
   "language": "python",
   "name": "python3"
  },
  "language_info": {
   "codemirror_mode": {
    "name": "ipython",
    "version": 3
   },
   "file_extension": ".py",
   "mimetype": "text/x-python",
   "name": "python",
   "nbconvert_exporter": "python",
   "pygments_lexer": "ipython3",
   "version": "3.11.7"
  }
 },
 "nbformat": 4,
 "nbformat_minor": 5
}
