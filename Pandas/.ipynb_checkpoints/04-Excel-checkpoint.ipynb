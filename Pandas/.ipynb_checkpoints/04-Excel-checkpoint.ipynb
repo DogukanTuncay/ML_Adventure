{
 "cells": [
  {
   "cell_type": "code",
   "execution_count": 2,
   "id": "f8d27783-e398-4412-be4a-da0545b783e2",
   "metadata": {},
   "outputs": [],
   "source": [
    "import pandas as pd\n",
    "import numpy as np"
   ]
  },
  {
   "cell_type": "code",
   "execution_count": 5,
   "id": "24252baf-c73c-41f1-9b6e-755ef3ab3782",
   "metadata": {},
   "outputs": [],
   "source": [
    "dataFrame = pd.read_excel(\"Maas.xlsx\")"
   ]
  },
  {
   "cell_type": "code",
   "execution_count": 7,
   "id": "2cc29747-9134-4976-b12a-c16a5e22db3a",
   "metadata": {},
   "outputs": [
    {
     "data": {
      "text/html": [
       "<div>\n",
       "<style scoped>\n",
       "    .dataframe tbody tr th:only-of-type {\n",
       "        vertical-align: middle;\n",
       "    }\n",
       "\n",
       "    .dataframe tbody tr th {\n",
       "        vertical-align: top;\n",
       "    }\n",
       "\n",
       "    .dataframe thead th {\n",
       "        text-align: right;\n",
       "    }\n",
       "</style>\n",
       "<table border=\"1\" class=\"dataframe\">\n",
       "  <thead>\n",
       "    <tr style=\"text-align: right;\">\n",
       "      <th></th>\n",
       "      <th>Unnamed: 0</th>\n",
       "      <th>Maas</th>\n",
       "      <th>Yas</th>\n",
       "      <th>Departman</th>\n",
       "    </tr>\n",
       "  </thead>\n",
       "  <tbody>\n",
       "    <tr>\n",
       "      <th>0</th>\n",
       "      <td>Atıl</td>\n",
       "      <td>100</td>\n",
       "      <td>40.0</td>\n",
       "      <td>Yazılım</td>\n",
       "    </tr>\n",
       "    <tr>\n",
       "      <th>1</th>\n",
       "      <td>Zeyne</td>\n",
       "      <td>150</td>\n",
       "      <td>30.0</td>\n",
       "      <td>Satış</td>\n",
       "    </tr>\n",
       "    <tr>\n",
       "      <th>2</th>\n",
       "      <td>Mehmet</td>\n",
       "      <td>200</td>\n",
       "      <td>50.0</td>\n",
       "      <td>NaN</td>\n",
       "    </tr>\n",
       "    <tr>\n",
       "      <th>3</th>\n",
       "      <td>Ahmet</td>\n",
       "      <td>50</td>\n",
       "      <td>10.0</td>\n",
       "      <td>Hukuk</td>\n",
       "    </tr>\n",
       "    <tr>\n",
       "      <th>4</th>\n",
       "      <td>Atlas</td>\n",
       "      <td>150</td>\n",
       "      <td>NaN</td>\n",
       "      <td>Finans</td>\n",
       "    </tr>\n",
       "    <tr>\n",
       "      <th>5</th>\n",
       "      <td>Fatma</td>\n",
       "      <td>200</td>\n",
       "      <td>25.0</td>\n",
       "      <td>NaN</td>\n",
       "    </tr>\n",
       "  </tbody>\n",
       "</table>\n",
       "</div>"
      ],
      "text/plain": [
       "  Unnamed: 0  Maas   Yas Departman\n",
       "0       Atıl   100  40.0   Yazılım\n",
       "1      Zeyne   150  30.0     Satış\n",
       "2     Mehmet   200  50.0       NaN\n",
       "3      Ahmet    50  10.0     Hukuk\n",
       "4      Atlas   150   NaN    Finans\n",
       "5      Fatma   200  25.0       NaN"
      ]
     },
     "execution_count": 7,
     "metadata": {},
     "output_type": "execute_result"
    }
   ],
   "source": [
    "dataFrame"
   ]
  },
  {
   "cell_type": "code",
   "execution_count": 8,
   "id": "7c89604a-1cbd-413a-a4f4-a34454891801",
   "metadata": {},
   "outputs": [],
   "source": [
    "doluDegerlerDF = dataFrame.dropna()"
   ]
  },
  {
   "cell_type": "code",
   "execution_count": 9,
   "id": "c6ec59cb-c665-41da-9b8a-7ce17cfa6993",
   "metadata": {},
   "outputs": [
    {
     "data": {
      "text/html": [
       "<div>\n",
       "<style scoped>\n",
       "    .dataframe tbody tr th:only-of-type {\n",
       "        vertical-align: middle;\n",
       "    }\n",
       "\n",
       "    .dataframe tbody tr th {\n",
       "        vertical-align: top;\n",
       "    }\n",
       "\n",
       "    .dataframe thead th {\n",
       "        text-align: right;\n",
       "    }\n",
       "</style>\n",
       "<table border=\"1\" class=\"dataframe\">\n",
       "  <thead>\n",
       "    <tr style=\"text-align: right;\">\n",
       "      <th></th>\n",
       "      <th>Unnamed: 0</th>\n",
       "      <th>Maas</th>\n",
       "      <th>Yas</th>\n",
       "      <th>Departman</th>\n",
       "    </tr>\n",
       "  </thead>\n",
       "  <tbody>\n",
       "    <tr>\n",
       "      <th>0</th>\n",
       "      <td>Atıl</td>\n",
       "      <td>100</td>\n",
       "      <td>40.0</td>\n",
       "      <td>Yazılım</td>\n",
       "    </tr>\n",
       "    <tr>\n",
       "      <th>1</th>\n",
       "      <td>Zeyne</td>\n",
       "      <td>150</td>\n",
       "      <td>30.0</td>\n",
       "      <td>Satış</td>\n",
       "    </tr>\n",
       "    <tr>\n",
       "      <th>3</th>\n",
       "      <td>Ahmet</td>\n",
       "      <td>50</td>\n",
       "      <td>10.0</td>\n",
       "      <td>Hukuk</td>\n",
       "    </tr>\n",
       "  </tbody>\n",
       "</table>\n",
       "</div>"
      ],
      "text/plain": [
       "  Unnamed: 0  Maas   Yas Departman\n",
       "0       Atıl   100  40.0   Yazılım\n",
       "1      Zeyne   150  30.0     Satış\n",
       "3      Ahmet    50  10.0     Hukuk"
      ]
     },
     "execution_count": 9,
     "metadata": {},
     "output_type": "execute_result"
    }
   ],
   "source": [
    "doluDegerlerDF"
   ]
  },
  {
   "cell_type": "code",
   "execution_count": 10,
   "id": "4fa31a9d-8953-4e47-b0d3-08e5849ef575",
   "metadata": {},
   "outputs": [],
   "source": [
    "doluDegerlerDF.to_excel(\"yeniMaas.xlsx\")"
   ]
  },
  {
   "cell_type": "markdown",
   "id": "ad4eb635-0c3a-4bbb-b572-cf138b5ef147",
   "metadata": {},
   "source": [
    "## CSV Verilerl için read_csv ve to_csv methodları kullanılır."
   ]
  },
  {
   "cell_type": "code",
   "execution_count": null,
   "id": "9b7b35e2-66e8-4850-b23e-eed98b764f19",
   "metadata": {},
   "outputs": [],
   "source": []
  }
 ],
 "metadata": {
  "kernelspec": {
   "display_name": "Python 3 (ipykernel)",
   "language": "python",
   "name": "python3"
  },
  "language_info": {
   "codemirror_mode": {
    "name": "ipython",
    "version": 3
   },
   "file_extension": ".py",
   "mimetype": "text/x-python",
   "name": "python",
   "nbconvert_exporter": "python",
   "pygments_lexer": "ipython3",
   "version": "3.11.7"
  }
 },
 "nbformat": 4,
 "nbformat_minor": 5
}
