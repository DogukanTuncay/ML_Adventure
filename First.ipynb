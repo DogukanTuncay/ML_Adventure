{
 "cells": [
  {
   "cell_type": "code",
   "execution_count": 1,
   "id": "27ebc75b-52a5-4a94-a27c-73b5d21a70cb",
   "metadata": {},
   "outputs": [
    {
     "name": "stdin",
     "output_type": "stream",
     "text": [
      "Seç bakam 1\n"
     ]
    }
   ],
   "source": [
    "test = input(\"Seç bakam\")"
   ]
  },
  {
   "cell_type": "code",
   "execution_count": 2,
   "id": "46922e41-3166-4125-847f-393c74518f6e",
   "metadata": {},
   "outputs": [],
   "source": [
    "benimListem = [10,20,30,40,50]"
   ]
  },
  {
   "cell_type": "code",
   "execution_count": 3,
   "id": "afdbdfa9-1691-42db-bf68-fa8d1a87d2d2",
   "metadata": {},
   "outputs": [],
   "source": [
    "if 60 in benimListem:\n",
    "    print(\"İçinde var\")"
   ]
  },
  {
   "cell_type": "code",
   "execution_count": 4,
   "id": "2926f9ec-6bce-4cec-b4dc-b5fc6e645cab",
   "metadata": {},
   "outputs": [],
   "source": [
    "benimSozluk = {\"muz\":100,\"elma\":50,\"karpuz\":500}"
   ]
  },
  {
   "cell_type": "code",
   "execution_count": 5,
   "id": "3b774216-db46-4cea-9469-8be9a0dafb56",
   "metadata": {},
   "outputs": [],
   "source": [
    "koordinatListesi = [(10,20),(15.2,13.3),(40.2,45.3)]\n",
    "garipKoordinatListesi = [(10,20,45),(15.2,13.3,45.5),(40.2,45.3,45.8)]"
   ]
  },
  {
   "cell_type": "code",
   "execution_count": 6,
   "id": "d2fd8a06-90cf-4e54-8ba8-ec4059cabbd3",
   "metadata": {},
   "outputs": [
    {
     "name": "stdout",
     "output_type": "stream",
     "text": [
      "0\n",
      "1\n",
      "2\n",
      "3\n",
      "4\n"
     ]
    }
   ],
   "source": [
    "for index,i in enumerate(list(range(0,15,3))):\n",
    "    print(index)"
   ]
  },
  {
   "cell_type": "code",
   "execution_count": null,
   "id": "8271ea0b-e305-46f5-b084-0b994bf32993",
   "metadata": {},
   "outputs": [],
   "source": []
  },
  {
   "cell_type": "markdown",
   "id": "4e0caaf6-a14e-4b97-8820-7cea80fa156b",
   "metadata": {},
   "source": [
    "#### Random"
   ]
  },
  {
   "cell_type": "code",
   "execution_count": 7,
   "id": "592bb768-3195-4663-9fff-f6e3fc92fabc",
   "metadata": {},
   "outputs": [],
   "source": [
    "import random"
   ]
  },
  {
   "cell_type": "code",
   "execution_count": 8,
   "id": "7ee394ca-8ed2-488d-b9da-de16c7c4f2d0",
   "metadata": {},
   "outputs": [],
   "source": [
    "yeniListe = list(range(0,10))"
   ]
  },
  {
   "cell_type": "code",
   "execution_count": 9,
   "id": "cd48cdbc-489e-40d0-acc0-286b8fd119a0",
   "metadata": {},
   "outputs": [],
   "source": [
    "random.shuffle(yeniListe)"
   ]
  },
  {
   "cell_type": "code",
   "execution_count": 10,
   "id": "b61820c3-c959-42e2-bd43-5ccc85c4197d",
   "metadata": {},
   "outputs": [
    {
     "data": {
      "text/plain": [
       "[9, 1, 4, 6, 8, 3, 5, 2, 7, 0]"
      ]
     },
     "execution_count": 10,
     "metadata": {},
     "output_type": "execute_result"
    }
   ],
   "source": [
    "yeniListe"
   ]
  },
  {
   "cell_type": "markdown",
   "id": "a25cd8b6-7227-4e18-a5b7-4ebac991ea0e",
   "metadata": {},
   "source": [
    "#### zip"
   ]
  },
  {
   "cell_type": "code",
   "execution_count": 11,
   "id": "0258c8e0-3605-4e4f-b253-60ec661e6774",
   "metadata": {},
   "outputs": [],
   "source": [
    "yemekListesi = [\"Muz\",\"Ananas\",\"Elma\"]\n",
    "kaloriListesi=[100,200,300]\n",
    "gunListesi=[\"pazartesi\",\"sali\",\"carsamba\"]"
   ]
  },
  {
   "cell_type": "code",
   "execution_count": 12,
   "id": "813fcbb3-d7af-4a78-984c-4fe80edff3d8",
   "metadata": {},
   "outputs": [],
   "source": [
    "ziplenmisListe = list(zip(yemekListesi,kaloriListesi,gunListesi))"
   ]
  },
  {
   "cell_type": "code",
   "execution_count": 13,
   "id": "1ff7f1ed-2188-4bc8-b7bd-37f4d585721e",
   "metadata": {},
   "outputs": [
    {
     "name": "stdout",
     "output_type": "stream",
     "text": [
      "Muz\n",
      "Ananas\n",
      "Elma\n"
     ]
    }
   ],
   "source": [
    "for eleman,a,b in ziplenmisListe:\n",
    "    print(eleman)"
   ]
  },
  {
   "cell_type": "markdown",
   "id": "69788f55-193e-4a8a-8748-ecd16556d980",
   "metadata": {},
   "source": [
    "## Listeler"
   ]
  },
  {
   "cell_type": "code",
   "execution_count": 14,
   "id": "110562db-4b01-4011-be5f-08293f949487",
   "metadata": {},
   "outputs": [
    {
     "name": "stdout",
     "output_type": "stream",
     "text": [
      "['D', 'o', 'ğ', 'u', 'k', 'a', 'n', ' ', 'T', 'U', 'N', 'Ç', 'A', 'Y']\n"
     ]
    }
   ],
   "source": [
    "listeOrnegi = []\n",
    "benimString = \"Doğukan TUNÇAY\"\n",
    "\n",
    "for harf in benimString:\n",
    "    listeOrnegi.append(harf)\n",
    "print(listeOrnegi)"
   ]
  },
  {
   "cell_type": "code",
   "execution_count": 15,
   "id": "17b19bf4-5a91-49ac-9986-89bf7a62fb44",
   "metadata": {},
   "outputs": [],
   "source": [
    "yeniString = \"Doğukan TUNÇAY\"\n",
    "yeniListeOrnegi = [eleman for eleman in yeniString]"
   ]
  },
  {
   "cell_type": "code",
   "execution_count": 16,
   "id": "76587c2f-2f86-443b-a145-d23dfc130a5b",
   "metadata": {},
   "outputs": [
    {
     "data": {
      "text/plain": [
       "['D', 'o', 'ğ', 'u', 'k', 'a', 'n', ' ', 'T', 'U', 'N', 'Ç', 'A', 'Y']"
      ]
     },
     "execution_count": 16,
     "metadata": {},
     "output_type": "execute_result"
    }
   ],
   "source": [
    "yeniListeOrnegi"
   ]
  },
  {
   "cell_type": "code",
   "execution_count": 17,
   "id": "12bf0638-ef7f-4719-9f76-3ed6dac65739",
   "metadata": {},
   "outputs": [],
   "source": [
    "ikinciListeOrnegi = [numara*5 for numara in range(10)]"
   ]
  },
  {
   "cell_type": "code",
   "execution_count": 18,
   "id": "4df3217d-15dd-49fe-9885-f44e352f86df",
   "metadata": {},
   "outputs": [
    {
     "data": {
      "text/plain": [
       "[0, 5, 10, 15, 20, 25, 30, 35, 40, 45]"
      ]
     },
     "execution_count": 18,
     "metadata": {},
     "output_type": "execute_result"
    }
   ],
   "source": [
    "ikinciListeOrnegi"
   ]
  },
  {
   "cell_type": "code",
   "execution_count": 19,
   "id": "f48df37c-a80f-40d1-980f-29ecb833f045",
   "metadata": {},
   "outputs": [],
   "source": [
    "def toplama(*args):\n",
    "    return sum(args)"
   ]
  },
  {
   "cell_type": "code",
   "execution_count": 20,
   "id": "4e117a80-1467-48d4-9c11-4a487378285d",
   "metadata": {},
   "outputs": [
    {
     "data": {
      "text/plain": [
       "100"
      ]
     },
     "execution_count": 20,
     "metadata": {},
     "output_type": "execute_result"
    }
   ],
   "source": [
    "toplama(10,20,30,40)"
   ]
  },
  {
   "cell_type": "code",
   "execution_count": 21,
   "id": "d8e749de-a417-48b8-b44f-8778d1c76850",
   "metadata": {},
   "outputs": [],
   "source": [
    "def fonksiyonum(*args):\n",
    "    print(args)"
   ]
  },
  {
   "cell_type": "code",
   "execution_count": 22,
   "id": "c2de6597-a044-4c42-95e2-902917838cf0",
   "metadata": {},
   "outputs": [
    {
     "name": "stdout",
     "output_type": "stream",
     "text": [
      "('asdw', 'a')\n"
     ]
    }
   ],
   "source": [
    "fonksiyonum(\"asdw\",\"a\")"
   ]
  },
  {
   "cell_type": "code",
   "execution_count": 23,
   "id": "9dad7421-903f-4473-b498-0b29e66e6220",
   "metadata": {},
   "outputs": [],
   "source": [
    "def fonksiyon2(**kwargs):\n",
    "    print(kwargs)"
   ]
  },
  {
   "cell_type": "code",
   "execution_count": 24,
   "id": "7bbbbeac-8ea6-44fc-b792-24472493e6d5",
   "metadata": {},
   "outputs": [
    {
     "name": "stdout",
     "output_type": "stream",
     "text": [
      "{'muz': 100, 'elma': 200, 'nar': 300}\n"
     ]
    },
    {
     "data": {
      "text/plain": [
       "NoneType"
      ]
     },
     "execution_count": 24,
     "metadata": {},
     "output_type": "execute_result"
    }
   ],
   "source": [
    "type(fonksiyon2(muz = 100, elma = 200, nar = 300))"
   ]
  },
  {
   "cell_type": "code",
   "execution_count": 25,
   "id": "dd166082-fe2e-47a2-904b-ac2d13fb036a",
   "metadata": {},
   "outputs": [],
   "source": [
    "benimListem = [x for x in range(10)]"
   ]
  },
  {
   "cell_type": "code",
   "execution_count": 26,
   "id": "5c65daa4-4a5b-4a74-94d0-97fcfbf793cf",
   "metadata": {},
   "outputs": [],
   "source": [
    "yeniListe=[]\n",
    "for eleman in benimListem:\n",
    "    yeniListe.append(eleman*2)"
   ]
  },
  {
   "cell_type": "code",
   "execution_count": 27,
   "id": "bc790e8b-b306-4050-bd9c-ecc4fbbaa6cf",
   "metadata": {},
   "outputs": [],
   "source": [
    "def bolmeIslemi(numara):\n",
    "    return numara/2"
   ]
  },
  {
   "cell_type": "code",
   "execution_count": 28,
   "id": "7548c21e-2883-465d-8a49-1f77c60cf4cf",
   "metadata": {},
   "outputs": [
    {
     "data": {
      "text/plain": [
       "[0.0, 0.5, 1.0, 1.5, 2.0, 2.5, 3.0, 3.5, 4.0, 4.5]"
      ]
     },
     "execution_count": 28,
     "metadata": {},
     "output_type": "execute_result"
    }
   ],
   "source": [
    "yeniListe = list(map(bolmeIslemi,benimListem))\n",
    "yeniListe"
   ]
  },
  {
   "cell_type": "code",
   "execution_count": 29,
   "id": "a9efad7a-3e05-437b-99f7-86c90be10940",
   "metadata": {},
   "outputs": [],
   "source": [
    "carpma = lambda numara : numara *3"
   ]
  },
  {
   "cell_type": "code",
   "execution_count": 30,
   "id": "93bcbf58-9c50-4e5b-bbf9-81ee6127579d",
   "metadata": {},
   "outputs": [
    {
     "data": {
      "text/plain": [
       "30"
      ]
     },
     "execution_count": 30,
     "metadata": {},
     "output_type": "execute_result"
    }
   ],
   "source": [
    "carpma(10)"
   ]
  },
  {
   "cell_type": "code",
   "execution_count": 31,
   "id": "8b9840a7-afb5-4142-95bf-2c8156d146ef",
   "metadata": {},
   "outputs": [],
   "source": [
    "numara = 20\n",
    "def carpma(rakam):\n",
    "    global numara\n",
    "    numara  = 10\n",
    "    return numara*rakam"
   ]
  },
  {
   "cell_type": "code",
   "execution_count": 32,
   "id": "addfbae8-3ba0-4916-8482-a80517952bcf",
   "metadata": {},
   "outputs": [
    {
     "data": {
      "text/plain": [
       "200"
      ]
     },
     "execution_count": 32,
     "metadata": {},
     "output_type": "execute_result"
    }
   ],
   "source": [
    "carpma(numara)"
   ]
  },
  {
   "cell_type": "code",
   "execution_count": 33,
   "id": "fc89f46d-2096-4e04-ba0e-8a4d7801aa22",
   "metadata": {},
   "outputs": [
    {
     "data": {
      "text/plain": [
       "10"
      ]
     },
     "execution_count": 33,
     "metadata": {},
     "output_type": "execute_result"
    }
   ],
   "source": [
    "numara"
   ]
  },
  {
   "cell_type": "code",
   "execution_count": 54,
   "id": "1d7af409-5637-4958-b2d0-99d43de1d844",
   "metadata": {},
   "outputs": [],
   "source": [
    "class Meyve():\n",
    "    def __init__(self,isim,kalori):\n",
    "        self.isim = isim\n",
    "        self.kalori = kalori\n",
    "    def __str__(self):\n",
    "        return f\"{self.isim} şu kadar kaloriye sahiptir : {self.kalori}\"\n",
    "    def __len__(self):\n",
    "        return self.kalori"
   ]
  },
  {
   "cell_type": "code",
   "execution_count": 55,
   "id": "1b791316-1686-4d8a-8314-27e32c23a8ec",
   "metadata": {},
   "outputs": [],
   "source": [
    "muz = Meyve(\"muz\",150)"
   ]
  },
  {
   "cell_type": "code",
   "execution_count": 36,
   "id": "46478f1b-b754-49b0-b2fd-83c1203e88f8",
   "metadata": {},
   "outputs": [
    {
     "data": {
      "text/plain": [
       "'muz'"
      ]
     },
     "execution_count": 36,
     "metadata": {},
     "output_type": "execute_result"
    }
   ],
   "source": [
    "muz.isim"
   ]
  },
  {
   "cell_type": "code",
   "execution_count": 56,
   "id": "97c277fa-cfcc-48dd-9b6b-38554cf5ae45",
   "metadata": {},
   "outputs": [
    {
     "data": {
      "text/plain": [
       "<__main__.Meyve at 0x2108771fa10>"
      ]
     },
     "execution_count": 56,
     "metadata": {},
     "output_type": "execute_result"
    }
   ],
   "source": [
    "muz"
   ]
  },
  {
   "cell_type": "code",
   "execution_count": 57,
   "id": "ef3c6fc9-1d1d-4125-985b-980bfa35d2cd",
   "metadata": {},
   "outputs": [
    {
     "name": "stdout",
     "output_type": "stream",
     "text": [
      "muz şu kadar kaloriye sahiptir : 150\n"
     ]
    }
   ],
   "source": [
    "print(muz)"
   ]
  },
  {
   "cell_type": "code",
   "execution_count": 39,
   "id": "8f3a0c61-3b14-42f2-89c3-bebc148942c7",
   "metadata": {},
   "outputs": [],
   "source": [
    "benimListem=[1,2,3,3.45]"
   ]
  },
  {
   "cell_type": "code",
   "execution_count": 40,
   "id": "69f1c3d7-8113-4247-8db0-ed5613eb1bd8",
   "metadata": {},
   "outputs": [
    {
     "name": "stdout",
     "output_type": "stream",
     "text": [
      "[1, 2, 3, 3.45]\n"
     ]
    }
   ],
   "source": [
    "print(benimListem)"
   ]
  },
  {
   "cell_type": "code",
   "execution_count": 58,
   "id": "087bb7e7-8b7a-4f61-8923-b752075071f0",
   "metadata": {},
   "outputs": [],
   "source": [
    "def toplama(numara1,numara2):\n",
    "    return numara1+numara2"
   ]
  },
  {
   "cell_type": "code",
   "execution_count": 59,
   "id": "a507af51-4203-4625-bb5f-cae4f30cd78d",
   "metadata": {},
   "outputs": [
    {
     "name": "stdin",
     "output_type": "stream",
     "text": [
      "Birinci Numarayı Girin 10\n",
      "İkinci Numarayı Girin 20\n"
     ]
    },
    {
     "data": {
      "text/plain": [
       "30"
      ]
     },
     "execution_count": 59,
     "metadata": {},
     "output_type": "execute_result"
    }
   ],
   "source": [
    "x=int(input(\"Birinci Numarayı Girin\"))\n",
    "y=int(input(\"İkinci Numarayı Girin\"))\n",
    "toplama(x,y)"
   ]
  },
  {
   "cell_type": "code",
   "execution_count": 4,
   "id": "2150075e-f2c2-453b-aff3-8ba6071fa30b",
   "metadata": {},
   "outputs": [],
   "source": [
    "import numpy\n",
    "maasListesi = numpy.random.normal(4000,500,1000)"
   ]
  },
  {
   "cell_type": "code",
   "execution_count": 5,
   "id": "a4220453-2f1c-4d38-b9eb-6d0f92464464",
   "metadata": {},
   "outputs": [
    {
     "data": {
      "text/plain": [
       "array([3538.92618243, 4230.40033699, 3981.77844323, 3549.34848025,\n",
       "       4608.3920356 , 4731.60959487, 4425.50012634, 5094.46911383,\n",
       "       3760.90360068, 4576.58521637, 4032.51867743, 4457.63208395,\n",
       "       3516.81754859, 3700.26310661, 3651.44345923, 5276.70345901,\n",
       "       3645.89337034, 3915.99261379, 4495.63756409, 4375.34674876,\n",
       "       4094.61402712, 3123.82038892, 3672.3116029 , 4202.46384823,\n",
       "       3989.85432128, 5488.30875652, 4163.40001823, 3487.97828839,\n",
       "       3483.46500027, 5095.13616929, 4733.96154621, 3564.22555506,\n",
       "       4252.98576302, 3664.56600664, 4376.93851255, 3638.30277173,\n",
       "       4127.91258653, 4796.72082452, 3683.58593421, 4375.2767492 ,\n",
       "       3198.18710186, 4373.15771405, 3830.24054483, 4804.48893594,\n",
       "       4386.0825438 , 4382.40128842, 3746.52636312, 3523.43999934,\n",
       "       3376.84946319, 3675.47290777, 4187.54283528, 4024.35406848,\n",
       "       2752.54325853, 3642.52823567, 3170.63907889, 3446.47873782,\n",
       "       3073.74528572, 4681.72525777, 4139.25308865, 4356.91089721,\n",
       "       4563.17046522, 4117.55231422, 4399.35185767, 4157.95562292,\n",
       "       4224.96955881, 3819.51791513, 3406.00210329, 3466.87949785,\n",
       "       3905.71740931, 4290.47581715, 3500.08640134, 4131.39620126,\n",
       "       3703.40857083, 4364.76797544, 4405.9405597 , 3328.01129733,\n",
       "       4276.11012591, 4434.56516357, 3628.12860327, 3671.18447949,\n",
       "       5009.78915679, 3905.69940432, 4398.72594719, 4138.46888864,\n",
       "       2901.08562303, 3929.17991842, 2947.7745222 , 4047.61918191,\n",
       "       4576.23783215, 3329.31112278, 4361.38444113, 4017.15764121,\n",
       "       4867.57543259, 3427.48004677, 4563.6910819 , 4280.64489145,\n",
       "       4119.11946512, 4128.42532114, 3068.0327829 , 3744.98041342,\n",
       "       3631.08828161, 3789.87737143, 3773.97121241, 3581.7846522 ,\n",
       "       4399.63649575, 4190.77489926, 4648.37570934, 4306.96401039,\n",
       "       4187.8692192 , 3764.14798533, 3627.94504569, 4271.52356978,\n",
       "       3848.2340936 , 4233.23236288, 3430.82188688, 4085.51292727,\n",
       "       4050.39487619, 3661.3392449 , 3907.79988272, 3758.34670191,\n",
       "       4114.24716388, 3409.30441124, 3483.37906513, 3659.18479535,\n",
       "       4377.47867152, 4957.37212328, 4291.98521451, 3896.3971158 ,\n",
       "       4289.88665616, 4402.98188474, 3615.63213765, 4057.93082155,\n",
       "       4457.05624239, 4725.53162644, 3629.2653324 , 3431.24149927,\n",
       "       4544.7383933 , 4254.58896534, 4092.69455245, 3779.01066611,\n",
       "       3698.82610145, 3495.74503147, 4567.92877842, 3190.56657692,\n",
       "       4394.43651315, 3517.62977647, 5137.68997496, 3884.21029703,\n",
       "       4660.2764633 , 4708.03049814, 4447.95737325, 4422.1362166 ,\n",
       "       3748.98597469, 4549.046466  , 4390.07389319, 3826.91207782,\n",
       "       3302.33736798, 4417.89282505, 3771.00931598, 4123.51223705,\n",
       "       3575.89172238, 3976.83022629, 4134.89608485, 4058.0591226 ,\n",
       "       4244.19874989, 4195.35384681, 3963.76113153, 4309.41217686,\n",
       "       4184.77532003, 4988.88692218, 3137.09874651, 5036.4235101 ,\n",
       "       4575.89331338, 3935.43844657, 3919.54809698, 3685.04305295,\n",
       "       4007.47313277, 3390.51048611, 4007.10832304, 3743.93196532,\n",
       "       3520.32178822, 3968.42818068, 5188.86398077, 3659.37637513,\n",
       "       4295.85632357, 4634.05701775, 3901.51715297, 3787.51384781,\n",
       "       3791.98298689, 4057.28105019, 3684.19105249, 3481.67750324,\n",
       "       3127.6915798 , 3224.12675146, 4442.57891959, 4438.47674309,\n",
       "       4009.17539928, 4530.09194742, 4031.05674446, 4192.89957126,\n",
       "       2905.66740078, 3682.32160634, 3492.84310648, 3451.50558493,\n",
       "       3859.08373348, 4390.53301389, 4735.5474519 , 4201.7841723 ,\n",
       "       3567.96840981, 3274.52101141, 3240.82521157, 3287.4824869 ,\n",
       "       3875.73221432, 4031.19784297, 3303.63040814, 3484.16316   ,\n",
       "       4088.50121267, 3608.86259026, 3682.23075541, 3470.15501318,\n",
       "       3519.40234665, 3382.85458904, 3648.25409338, 3782.31478946,\n",
       "       3685.81203393, 4576.91605111, 4301.0751033 , 4454.63324931,\n",
       "       4339.33862051, 3926.11381844, 3902.84984418, 3606.62132403,\n",
       "       3748.88854168, 3176.36364487, 3575.67131445, 4556.80623941,\n",
       "       4165.05971144, 4141.27751168, 4528.77110998, 3622.00398691,\n",
       "       3581.10942978, 3932.3423851 , 4018.36509265, 2771.73413709,\n",
       "       3927.40695842, 3476.35891849, 4375.67315342, 4723.29478668,\n",
       "       3963.18906255, 3902.74977617, 3452.13557303, 4109.32132857,\n",
       "       3942.91714979, 3655.89966444, 3702.57112417, 4436.62848271,\n",
       "       4159.7526077 , 4110.52459923, 4659.41474078, 3008.13324972,\n",
       "       4201.04102551, 3948.98197486, 3344.81736827, 3068.70103322,\n",
       "       3341.91224871, 4562.82982803, 3988.31036056, 4301.51611624,\n",
       "       3562.2460864 , 3627.51096914, 3902.24724893, 3922.59519514,\n",
       "       4258.66724273, 4774.53997828, 4120.53759823, 4143.80603844,\n",
       "       4167.03565003, 4510.79815188, 3924.93843927, 3835.31025816,\n",
       "       4142.20004802, 4221.83531259, 4401.61918875, 3974.84923834,\n",
       "       3602.78842858, 3644.58540994, 4049.17989749, 3475.35656704,\n",
       "       3950.3827269 , 3583.99973232, 4613.80978128, 3360.35554329,\n",
       "       3952.04404764, 3689.50580007, 3841.50234117, 3035.20619022,\n",
       "       3561.7476747 , 3352.97387931, 3817.88182287, 3788.97788845,\n",
       "       4676.15168613, 4488.82134478, 4086.32065357, 5280.72292915,\n",
       "       3961.93003241, 3779.55807482, 4119.68380518, 3940.10019494,\n",
       "       3141.95265032, 3457.80706254, 3983.51085213, 4374.76653695,\n",
       "       3510.90656888, 4494.65215521, 4221.33017685, 4772.34974096,\n",
       "       4042.55549297, 3877.76141192, 3878.28901281, 4456.50696684,\n",
       "       4532.44527056, 3206.44954194, 3685.75009791, 3799.06817566,\n",
       "       3636.4945416 , 3785.79324559, 4302.28516896, 4348.62235796,\n",
       "       4066.76593405, 3947.29073514, 4011.35197169, 3591.93427163,\n",
       "       4295.50666697, 4121.36837244, 3397.70854117, 4376.49829017,\n",
       "       3806.00111052, 4396.79132982, 4079.11971923, 3548.28866536,\n",
       "       3017.46794007, 3167.26302267, 3188.0182951 , 3941.05679674,\n",
       "       4095.47272088, 3508.71383809, 3775.00335599, 4841.73274855,\n",
       "       4135.95429468, 4362.04522943, 3795.77299868, 3182.15778226,\n",
       "       3044.6689951 , 4424.43515661, 3592.02411362, 3389.97569449,\n",
       "       3607.71492375, 3908.96388066, 3385.96869154, 3087.19146735,\n",
       "       4462.6046169 , 5002.96421811, 4367.84842958, 3710.20607686,\n",
       "       4524.92572963, 4046.57995868, 4884.99323871, 4201.46242501,\n",
       "       3773.86519252, 3672.36159275, 3649.60848858, 4774.73777637,\n",
       "       4544.45849732, 4180.16392228, 4383.69834209, 3907.81806148,\n",
       "       4050.20621197, 4155.77805812, 4851.14647515, 3184.89704182,\n",
       "       3864.03554357, 4719.89646494, 3974.7534422 , 4163.36367387,\n",
       "       4161.08860478, 4281.86452354, 5058.16698192, 4488.62947814,\n",
       "       5782.2006335 , 4257.27159447, 3815.55804869, 3983.39381562,\n",
       "       3567.57756049, 3975.75771571, 4220.52159797, 4469.16094169,\n",
       "       4068.15941604, 4444.8636275 , 4652.98487111, 3828.67640757,\n",
       "       4163.16385705, 3533.93382731, 3374.68784779, 4173.98610485,\n",
       "       4549.9582441 , 3682.80602867, 4509.38452121, 3870.92156026,\n",
       "       4782.84299742, 3459.05632401, 3838.23891694, 4330.05850985,\n",
       "       4761.81218535, 3029.4196662 , 4691.10557733, 4167.60104978,\n",
       "       3783.68191372, 3861.85667662, 4185.56694852, 3511.35705733,\n",
       "       4406.52507408, 4652.7535436 , 4031.05556076, 5160.88820585,\n",
       "       3350.48533365, 3276.80378298, 3359.30936011, 3711.49622146,\n",
       "       3510.15896934, 4766.80891683, 3588.89708488, 3628.09052886,\n",
       "       4618.33083612, 5150.75270567, 3433.12146518, 3062.47351121,\n",
       "       2854.89771104, 4089.0815005 , 4808.34242427, 3445.90167336,\n",
       "       4741.79395835, 4244.51851946, 4583.31157895, 4037.3046075 ,\n",
       "       4466.59689622, 4015.37280416, 4417.50201418, 3603.9314999 ,\n",
       "       4476.5486855 , 3966.87726446, 3699.77192507, 3392.80993845,\n",
       "       3887.29108755, 4150.82059853, 4033.10769956, 3806.16448598,\n",
       "       3631.13118423, 3638.36789776, 3307.70592555, 3651.63671136,\n",
       "       4110.17489031, 4179.13779599, 4338.29639815, 4669.08999563,\n",
       "       4737.22926461, 3647.04204847, 4307.54861448, 3826.08003494,\n",
       "       3707.57392656, 4218.91301881, 4299.19901777, 4361.37706485,\n",
       "       3324.50976684, 3792.71120916, 4224.17042059, 3824.24378702,\n",
       "       4524.82154112, 4137.17288008, 4171.71559919, 4291.81966699,\n",
       "       4613.07070466, 3790.9653832 , 3310.51824279, 3896.89967609,\n",
       "       3926.57294906, 3704.59992115, 4203.49778735, 4272.28375637,\n",
       "       4832.95997447, 4871.6009686 , 3702.49796557, 4461.06886704,\n",
       "       4938.11199666, 3536.43142931, 4719.05036533, 4912.22060764,\n",
       "       4889.68926724, 4144.56916587, 4292.09724188, 3830.5315538 ,\n",
       "       4155.18897159, 3768.02230068, 3987.87991898, 4376.55569691,\n",
       "       4003.24766644, 3538.88893144, 4129.11544302, 3837.58802807,\n",
       "       4049.62196683, 3900.56549191, 4853.04781309, 4698.5953422 ,\n",
       "       3947.41323086, 3994.70680525, 3846.2393934 , 5233.60170454,\n",
       "       4195.11055269, 4149.01650793, 4713.58795537, 3656.3955088 ,\n",
       "       4446.85154811, 4193.22379826, 3163.09922828, 3716.82882638,\n",
       "       4182.64482581, 4933.10140354, 4238.16520694, 3611.75136148,\n",
       "       4229.29325619, 4216.77615289, 4218.00494336, 4572.36138694,\n",
       "       4046.97539878, 4127.14051495, 3899.75768378, 3977.53597863,\n",
       "       3949.68145705, 3557.05924632, 4793.33155129, 3980.91280841,\n",
       "       3751.00792305, 3450.35775427, 3701.44656298, 4299.4182069 ,\n",
       "       3750.79621564, 3904.38406026, 3635.71089891, 4849.41283975,\n",
       "       3549.95540988, 3614.3385935 , 4363.05535948, 4083.32595009,\n",
       "       2898.32800481, 4439.76602582, 3869.17125184, 4168.04074975,\n",
       "       4528.57727798, 4266.55871642, 4538.44167237, 4338.2411657 ,\n",
       "       4356.89533628, 4244.60106694, 3965.89637916, 4594.06554678,\n",
       "       5050.54296739, 3775.82171714, 4587.12080998, 3640.74658536,\n",
       "       3559.19714405, 4711.61231784, 3514.75740631, 4389.65701615,\n",
       "       4402.8837847 , 5245.5643908 , 4727.32076376, 4508.92497762,\n",
       "       3526.28646783, 3107.63650014, 4481.64772071, 3944.5062649 ,\n",
       "       4151.65733011, 3350.98815374, 3477.7755053 , 2931.35837339,\n",
       "       4310.96779052, 3483.53795087, 3569.5798082 , 3155.30013073,\n",
       "       4772.8332686 , 4017.97851245, 4572.26998044, 3844.63875279,\n",
       "       2575.16285212, 3698.26947861, 2928.85947253, 2881.59439253,\n",
       "       3969.55009687, 4257.7966966 , 4249.08040758, 4331.72608626,\n",
       "       4186.8997857 , 4139.50448033, 4513.38067817, 3707.52141792,\n",
       "       4578.15747462, 4225.72517765, 4194.809282  , 4795.90707755,\n",
       "       2554.5540074 , 3477.77354093, 3430.10438776, 5217.84256592,\n",
       "       3788.06980886, 3478.61978187, 3203.43556615, 4478.00927839,\n",
       "       3868.03251423, 4494.81056183, 3914.85087521, 3219.40401192,\n",
       "       4563.37504393, 3248.48249602, 3239.32006413, 4208.12430099,\n",
       "       3978.99346714, 4101.11464282, 3813.19142586, 4617.9992037 ,\n",
       "       4030.70399197, 3579.32720774, 3556.8127061 , 4224.04466079,\n",
       "       3823.70645411, 5675.53782908, 3936.80070868, 4885.94301921,\n",
       "       3653.71917514, 3915.38440003, 3655.85650512, 3820.63258744,\n",
       "       4712.6233491 , 3450.4395258 , 3946.7294061 , 4906.86915303,\n",
       "       4035.33230499, 3867.25592898, 3423.78029643, 4779.44420868,\n",
       "       4657.06998618, 4615.57809331, 3928.55959625, 4576.94547624,\n",
       "       3898.4473033 , 4197.00450217, 3572.53382465, 4122.26380075,\n",
       "       4331.87258845, 4542.26517918, 4262.07695166, 3879.67609465,\n",
       "       4449.79844452, 4210.70218275, 4050.55189513, 4051.49134023,\n",
       "       3256.87038821, 4778.947162  , 3189.77215204, 4182.99269342,\n",
       "       3654.7319116 , 3969.60347415, 3792.75260202, 4104.67653312,\n",
       "       4066.14475519, 4924.50101884, 3963.43721868, 3437.56882835,\n",
       "       4116.48788916, 3953.66529073, 3597.62751969, 3385.57232929,\n",
       "       4140.51040902, 4304.61223549, 4391.81160062, 4002.27524811,\n",
       "       4535.42261765, 4138.02996121, 4293.5025566 , 3868.69595037,\n",
       "       4792.91621803, 3923.31750612, 4287.96115814, 3423.07882856,\n",
       "       4604.16024913, 4302.82596327, 4111.26332492, 3544.67786655,\n",
       "       3716.58361754, 4149.93730898, 3986.38501371, 4044.65347578,\n",
       "       4081.25318439, 3737.1636455 , 4109.34843854, 3528.35184322,\n",
       "       3307.80452126, 3992.46678617, 4010.49863054, 3946.61311873,\n",
       "       4400.03593885, 2915.0231117 , 4395.22761238, 4006.59092282,\n",
       "       3844.70624752, 4543.66534798, 3817.75953148, 4425.42352631,\n",
       "       4042.85102192, 4037.82585175, 3679.38182137, 4524.76406633,\n",
       "       3816.06072929, 4728.52929047, 3869.63405894, 3642.27242217,\n",
       "       4574.12666639, 4567.23418238, 3635.69911903, 4186.99993441,\n",
       "       5152.87010891, 3584.82216878, 3509.30844243, 4027.3802583 ,\n",
       "       4407.99379533, 3974.3307368 , 4186.68212787, 3946.78513128,\n",
       "       3460.96534187, 4390.42137364, 4829.93808334, 4323.90267494,\n",
       "       4222.20846188, 3222.33123999, 4267.91616658, 3570.57372095,\n",
       "       3417.33802622, 3811.21987119, 3558.85684969, 4603.01075997,\n",
       "       3194.23233829, 4370.59929418, 3415.89507184, 3659.05684758,\n",
       "       3834.09885029, 3753.25726818, 4290.28551153, 4325.21555089,\n",
       "       3749.66421793, 3959.16229463, 3631.2372509 , 3509.47331744,\n",
       "       4235.29190621, 4518.867308  , 5098.25846616, 4154.81927882,\n",
       "       3938.79975168, 3098.10253946, 3838.65107993, 3887.56875182,\n",
       "       3876.72124796, 4086.55296064, 3363.35371244, 3701.55918976,\n",
       "       4927.38062968, 4217.07294588, 3104.43084209, 4332.6207248 ,\n",
       "       3621.30016123, 3615.9885759 , 5065.05569879, 4045.51941025,\n",
       "       4068.69772743, 4743.85098104, 3607.48717466, 4718.30411025,\n",
       "       4581.1674731 , 4348.67914401, 4864.58058045, 4839.86799927,\n",
       "       2723.50645833, 4842.9537711 , 3977.95690557, 3987.27500196,\n",
       "       4709.94870044, 3523.39329875, 4726.95522618, 3936.61238202,\n",
       "       3428.82176277, 3491.39570497, 4057.92320928, 3656.25098297,\n",
       "       4033.1433582 , 3566.63438824, 4847.54777421, 3909.32068383,\n",
       "       3878.92697085, 4554.42432048, 3949.19182484, 4338.310609  ,\n",
       "       3633.08467802, 3355.16103502, 3477.48141014, 3468.50356666,\n",
       "       4048.77945595, 4355.45126374, 4220.60792866, 4207.86335165,\n",
       "       4857.17878405, 4038.81909836, 4442.55476247, 3361.47750925,\n",
       "       4591.70978045, 4381.56264069, 4287.71912984, 3773.85475517,\n",
       "       4019.30285522, 3679.96041859, 4618.28645532, 3274.73752016,\n",
       "       4807.91086799, 4755.58240441, 5100.89314788, 4477.86399994,\n",
       "       4483.30406663, 4155.65432778, 4262.74068555, 3970.21639   ,\n",
       "       4978.15357029, 3577.8394434 , 4370.01589067, 4074.46114465,\n",
       "       4260.97797943, 3756.99880771, 2882.52288379, 4102.06241454,\n",
       "       4042.59443411, 3641.93055695, 4406.40682009, 4366.7936263 ,\n",
       "       4479.58802046, 3966.48848698, 4612.7874506 , 3719.19829013,\n",
       "       4237.84485146, 4555.57967124, 4233.68577642, 3207.50378742,\n",
       "       3419.51347157, 3082.99897143, 4337.94420552, 4102.0576421 ,\n",
       "       4123.70867122, 4488.12926036, 3782.24807212, 4418.15205177,\n",
       "       3798.89892148, 4108.42263287, 4697.14428961, 4565.40975963,\n",
       "       3454.67484978, 3760.55934956, 4530.01377629, 4257.60302198,\n",
       "       4430.94502689, 4373.80390158, 4194.54621544, 4105.38942375,\n",
       "       4143.89160218, 4158.57869427, 3827.12218943, 4433.14950024,\n",
       "       3819.87606247, 3424.69410222, 3831.09624332, 3759.13835567,\n",
       "       4717.21722266, 3958.51671465, 3949.14719635, 3327.35338476,\n",
       "       3661.42149268, 3944.56920005, 3787.11792278, 3853.49844258,\n",
       "       3244.63680915, 3961.98436294, 3278.18813762, 4571.80534023,\n",
       "       2985.3433316 , 3928.11611815, 3558.79229122, 3943.92128896,\n",
       "       3227.23930798, 3624.87290342, 4232.95795755, 4013.68690839,\n",
       "       4204.70901237, 3636.81160064, 4090.08701469, 3793.57490419,\n",
       "       3838.9343273 , 4341.81688299, 3828.36334125, 4247.8734345 ,\n",
       "       4044.14047238, 3966.05934767, 4482.84580238, 3172.18962232,\n",
       "       4611.33813786, 3947.31655519, 3840.73029479, 4296.72003902,\n",
       "       3797.60742455, 3189.83159806, 4876.93943082, 4391.67875431,\n",
       "       4617.91323389, 4739.45689849, 3453.78960865, 3296.44810799,\n",
       "       5192.51008547, 4523.89527625, 3859.14248951, 3839.32168544,\n",
       "       4355.43815204, 3844.08298951, 3457.78245377, 4379.69020506,\n",
       "       4347.23354038, 3261.1146139 , 4614.71450633, 3995.88148684,\n",
       "       4141.46416822, 3101.15759489, 4777.06815983, 4396.07514649,\n",
       "       3442.08532952, 3873.71373521, 3562.30868931, 2823.47989278,\n",
       "       2925.85671354, 4043.85465814, 3461.50495018, 3584.86833681,\n",
       "       4338.32345792, 3624.20188172, 4199.04091327, 4643.34361949,\n",
       "       4195.57892827, 4767.81195439, 3697.85215015, 3794.59435463,\n",
       "       3598.320585  , 3750.21690979, 4270.38185199, 3646.22070339,\n",
       "       5032.62327232, 4278.33417751, 3137.21543448, 3647.83693415,\n",
       "       4001.28055143, 3452.84997738, 4137.49895484, 4250.45004375,\n",
       "       3736.78723496, 3580.53544759, 3596.85669161, 4397.66804627,\n",
       "       4104.38859505, 4513.51598981, 4257.27759262, 3498.26682346,\n",
       "       3940.18524794, 4862.60321111, 3410.94794155, 4195.62878185,\n",
       "       3740.27472823, 3728.62594892, 3915.97550141, 4274.648333  ,\n",
       "       4580.64788068, 3627.2234801 , 3948.71846428, 3450.23658413,\n",
       "       4855.33018927, 4248.79259771, 3731.97153203, 4788.15173448,\n",
       "       4081.3049924 , 3869.77166521, 4180.20810891, 4457.43697729])"
      ]
     },
     "execution_count": 5,
     "metadata": {},
     "output_type": "execute_result"
    }
   ],
   "source": [
    "maasListesi"
   ]
  },
  {
   "cell_type": "code",
   "execution_count": 6,
   "id": "65360722-7934-44b3-840f-41540c9c080b",
   "metadata": {},
   "outputs": [
    {
     "data": {
      "text/plain": [
       "4018.9422976826627"
      ]
     },
     "execution_count": 6,
     "metadata": {},
     "output_type": "execute_result"
    }
   ],
   "source": [
    "numpy.mean(maasListesi)"
   ]
  },
  {
   "cell_type": "code",
   "execution_count": null,
   "id": "8ecbdd5c-cc2b-48fc-a17a-f3cd040641f2",
   "metadata": {},
   "outputs": [],
   "source": [
    "import matplotlib.pyplot as matplotlib"
   ]
  },
  {
   "cell_type": "code",
   "execution_count": 11,
   "id": "a3b48ff5-d395-4b28-beb8-307021945abe",
   "metadata": {},
   "outputs": [
    {
     "data": {
      "image/png": "[encoded data removed]",
      "text/plain": [
       "<Figure size 640x480 with 1 Axes>"
      ]
     },
     "metadata": {},
     "output_type": "display_data"
    }
   ],
   "source": [
    "matplotlib.hist(maasListesi,50)\n",
    "matplotlib.show()"
   ]
  },
  {
   "cell_type": "code",
   "execution_count": null,
   "id": "0ddaaf1d-3d97-4836-ab1b-fc3b2efaf5a4",
   "metadata": {},
   "outputs": [],
   "source": []
  }
 ],
 "metadata": {
  "kernelspec": {
   "display_name": "Python 3 (ipykernel)",
   "language": "python",
   "name": "python3"
  },
  "language_info": {
   "codemirror_mode": {
    "name": "ipython",
    "version": 3
   },
   "file_extension": ".py",
   "mimetype": "text/x-python",
   "name": "python",
   "nbconvert_exporter": "python",
   "pygments_lexer": "ipython3",
   "version": "3.11.7"
  }
 },
 "nbformat": 4,
 "nbformat_minor": 5
}
