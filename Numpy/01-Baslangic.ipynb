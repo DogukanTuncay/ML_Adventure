{
 "cells": [
  {
   "cell_type": "code",
   "execution_count": 3,
   "id": "4da57ef8-6fb7-4614-bf23-7678b400d653",
   "metadata": {},
   "outputs": [],
   "source": [
    "import numpy as np"
   ]
  },
  {
   "cell_type": "markdown",
   "id": "8641602b-2879-488d-908f-c125c161d724",
   "metadata": {},
   "source": [
    "## Numpy Array"
   ]
  },
  {
   "cell_type": "code",
   "execution_count": 4,
   "id": "4a1f1bea-1657-4707-acfb-e51264c509b5",
   "metadata": {},
   "outputs": [],
   "source": [
    "liste = [20,30,40]"
   ]
  },
  {
   "cell_type": "code",
   "execution_count": 5,
   "id": "6ac77a22-ba54-46d3-a52e-3fd8de1c844c",
   "metadata": {},
   "outputs": [
    {
     "data": {
      "text/plain": [
       "list"
      ]
     },
     "execution_count": 5,
     "metadata": {},
     "output_type": "execute_result"
    }
   ],
   "source": [
    "type(liste)"
   ]
  },
  {
   "cell_type": "code",
   "execution_count": 6,
   "id": "083036f4-b828-4f56-8ed9-7056a910c7cc",
   "metadata": {},
   "outputs": [],
   "source": [
    "liste = np.array(liste)"
   ]
  },
  {
   "cell_type": "code",
   "execution_count": 7,
   "id": "6e885473-a1e8-4cde-97d4-b2abd648956e",
   "metadata": {},
   "outputs": [
    {
     "data": {
      "text/plain": [
       "numpy.ndarray"
      ]
     },
     "execution_count": 7,
     "metadata": {},
     "output_type": "execute_result"
    }
   ],
   "source": [
    "type(liste)"
   ]
  },
  {
   "cell_type": "code",
   "execution_count": 8,
   "id": "e4fc24bd-fd14-4de1-85bb-9cc6380f5a2a",
   "metadata": {},
   "outputs": [],
   "source": [
    "matrixListe = [[10,20,30],[15,25,35],[1,2,3]]"
   ]
  },
  {
   "cell_type": "code",
   "execution_count": 9,
   "id": "c418e427-408f-4647-8ce3-966185550946",
   "metadata": {},
   "outputs": [
    {
     "data": {
      "text/plain": [
       "[[10, 20, 30], [15, 25, 35], [1, 2, 3]]"
      ]
     },
     "execution_count": 9,
     "metadata": {},
     "output_type": "execute_result"
    }
   ],
   "source": [
    "matrixListe"
   ]
  },
  {
   "cell_type": "code",
   "execution_count": 10,
   "id": "e1de5b2c-4248-42cc-91d0-2d64fd69cb4a",
   "metadata": {},
   "outputs": [
    {
     "data": {
      "text/plain": [
       "[10, 20, 30]"
      ]
     },
     "execution_count": 10,
     "metadata": {},
     "output_type": "execute_result"
    }
   ],
   "source": [
    "matrixListe[0]"
   ]
  },
  {
   "cell_type": "code",
   "execution_count": 11,
   "id": "b37e6068-7189-4489-bd8c-306a10f80e99",
   "metadata": {},
   "outputs": [
    {
     "data": {
      "text/plain": [
       "array([[10, 20, 30],\n",
       "       [15, 25, 35],\n",
       "       [ 1,  2,  3]])"
      ]
     },
     "execution_count": 11,
     "metadata": {},
     "output_type": "execute_result"
    }
   ],
   "source": [
    "np.array(matrixListe)"
   ]
  },
  {
   "cell_type": "code",
   "execution_count": 15,
   "id": "b7ec50d8-b67e-4c84-9e43-f8ee256aedb5",
   "metadata": {},
   "outputs": [
    {
     "name": "stdout",
     "output_type": "stream",
     "text": [
      "[[0 1 2]\n",
      " [3 4 5]]\n"
     ]
    }
   ],
   "source": [
    "numpy_array=np.array([0,1,2,3,4,5])\n",
    "print(numpy_array.reshape(2,3))"
   ]
  },
  {
   "cell_type": "code",
   "execution_count": 17,
   "id": "1ae727a7-2e69-4c72-ad7c-7a5fca0ce0f6",
   "metadata": {},
   "outputs": [
    {
     "name": "stdout",
     "output_type": "stream",
     "text": [
      "['A' 'B' 'C' 'D']\n",
      "['A' 'B' 'C' 'D']\n"
     ]
    }
   ],
   "source": [
    "dizi=np.array(['A','B','C','D'])\n",
    "print(dizi)\n",
    "print(dizi)"
   ]
  },
  {
   "cell_type": "code",
   "execution_count": null,
   "id": "cb7ba9a4-4aa9-4d5c-a12c-4b7042669892",
   "metadata": {},
   "outputs": [],
   "source": []
  }
 ],
 "metadata": {
  "kernelspec": {
   "display_name": "Python (tflowenv)",
   "language": "python",
   "name": "tflowenv"
  },
  "language_info": {
   "codemirror_mode": {
    "name": "ipython",
    "version": 3
   },
   "file_extension": ".py",
   "mimetype": "text/x-python",
   "name": "python",
   "nbconvert_exporter": "python",
   "pygments_lexer": "ipython3",
   "version": "3.10.13"
  }
 },
 "nbformat": 4,
 "nbformat_minor": 5
}
