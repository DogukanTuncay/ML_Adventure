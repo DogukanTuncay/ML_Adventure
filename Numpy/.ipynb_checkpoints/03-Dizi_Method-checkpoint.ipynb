{
 "cells": [
  {
   "cell_type": "code",
   "execution_count": 1,
   "id": "39e2d600-8e29-49a0-bbd3-340d0536da28",
   "metadata": {},
   "outputs": [],
   "source": [
    "import numpy as np"
   ]
  },
  {
   "cell_type": "code",
   "execution_count": 15,
   "id": "edaf2850-1846-47a4-96c8-4c9f8bc3de99",
   "metadata": {},
   "outputs": [],
   "source": [
    "numpyDizi = np.arange(0,30000)"
   ]
  },
  {
   "cell_type": "code",
   "execution_count": 16,
   "id": "ab2f7f3f-4846-45fc-8ebc-4564e80a3ed9",
   "metadata": {},
   "outputs": [
    {
     "data": {
      "text/plain": [
       "array([[    0,     1,     2, ...,  2997,  2998,  2999],\n",
       "       [ 3000,  3001,  3002, ...,  5997,  5998,  5999],\n",
       "       [ 6000,  6001,  6002, ...,  8997,  8998,  8999],\n",
       "       ...,\n",
       "       [21000, 21001, 21002, ..., 23997, 23998, 23999],\n",
       "       [24000, 24001, 24002, ..., 26997, 26998, 26999],\n",
       "       [27000, 27001, 27002, ..., 29997, 29998, 29999]])"
      ]
     },
     "execution_count": 16,
     "metadata": {},
     "output_type": "execute_result"
    }
   ],
   "source": [
    "numpyDizi.reshape(10,3000)"
   ]
  },
  {
   "cell_type": "code",
   "execution_count": 17,
   "id": "744bf0ed-08b8-494b-b4ba-59c2429356d2",
   "metadata": {},
   "outputs": [
    {
     "data": {
      "text/plain": [
       "29999"
      ]
     },
     "execution_count": 17,
     "metadata": {},
     "output_type": "execute_result"
    }
   ],
   "source": [
    "numpyDizi.max()"
   ]
  },
  {
   "cell_type": "code",
   "execution_count": 20,
   "id": "53a36325-2cf5-44fb-b9af-73346ae94170",
   "metadata": {},
   "outputs": [
    {
     "data": {
      "text/plain": [
       "0"
      ]
     },
     "execution_count": 20,
     "metadata": {},
     "output_type": "execute_result"
    }
   ],
   "source": [
    "numpyDizi.min()"
   ]
  },
  {
   "cell_type": "code",
   "execution_count": 21,
   "id": "e6acea43-9927-408b-9fe3-11cf8195605f",
   "metadata": {},
   "outputs": [
    {
     "data": {
      "text/plain": [
       "29999"
      ]
     },
     "execution_count": 21,
     "metadata": {},
     "output_type": "execute_result"
    }
   ],
   "source": [
    "numpyDizi.argmax() #index"
   ]
  },
  {
   "cell_type": "code",
   "execution_count": 34,
   "id": "0d06cabf-1efb-4efd-83f1-367a50114927",
   "metadata": {},
   "outputs": [
    {
     "data": {
      "text/plain": [
       "0"
      ]
     },
     "execution_count": 34,
     "metadata": {},
     "output_type": "execute_result"
    }
   ],
   "source": [
    "numpyDizi.argmin() #index"
   ]
  },
  {
   "cell_type": "code",
   "execution_count": 35,
   "id": "b04bf14a-3dd6-4892-b120-6c30a4712b86",
   "metadata": {},
   "outputs": [],
   "source": [
    "shapelenmisDizi = numpyDizi.reshape(100,300)"
   ]
  },
  {
   "cell_type": "code",
   "execution_count": 36,
   "id": "dbf2bd03-c8c6-4124-9b75-b75fd6afdb47",
   "metadata": {},
   "outputs": [
    {
     "data": {
      "text/plain": [
       "array([[    0,     1,     2, ...,   297,   298,   299],\n",
       "       [  300,   301,   302, ...,   597,   598,   599],\n",
       "       [  600,   601,   602, ...,   897,   898,   899],\n",
       "       ...,\n",
       "       [29100, 29101, 29102, ..., 29397, 29398, 29399],\n",
       "       [29400, 29401, 29402, ..., 29697, 29698, 29699],\n",
       "       [29700, 29701, 29702, ..., 29997, 29998, 29999]])"
      ]
     },
     "execution_count": 36,
     "metadata": {},
     "output_type": "execute_result"
    }
   ],
   "source": [
    "shapelenmisDizi"
   ]
  },
  {
   "cell_type": "code",
   "execution_count": null,
   "id": "bed0cd62-4209-46ce-b2b3-402d3d15f2ef",
   "metadata": {},
   "outputs": [],
   "source": []
  }
 ],
 "metadata": {
  "kernelspec": {
   "display_name": "Python 3 (ipykernel)",
   "language": "python",
   "name": "python3"
  },
  "language_info": {
   "codemirror_mode": {
    "name": "ipython",
    "version": 3
   },
   "file_extension": ".py",
   "mimetype": "text/x-python",
   "name": "python",
   "nbconvert_exporter": "python",
   "pygments_lexer": "ipython3",
   "version": "3.11.7"
  }
 },
 "nbformat": 4,
 "nbformat_minor": 5
}
