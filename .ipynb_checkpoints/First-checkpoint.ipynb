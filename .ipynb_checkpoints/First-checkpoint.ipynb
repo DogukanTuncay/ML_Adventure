{
 "cells": [
  {
   "cell_type": "code",
   "execution_count": 1,
   "id": "27ebc75b-52a5-4a94-a27c-73b5d21a70cb",
   "metadata": {},
   "outputs": [
    {
     "name": "stdin",
     "output_type": "stream",
     "text": [
      "Seç bakam 1\n"
     ]
    }
   ],
   "source": [
    "test = input(\"Seç bakam\")"
   ]
  },
  {
   "cell_type": "code",
   "execution_count": 2,
   "id": "46922e41-3166-4125-847f-393c74518f6e",
   "metadata": {},
   "outputs": [],
   "source": [
    "benimListem = [10,20,30,40,50]"
   ]
  },
  {
   "cell_type": "code",
   "execution_count": 3,
   "id": "afdbdfa9-1691-42db-bf68-fa8d1a87d2d2",
   "metadata": {},
   "outputs": [],
   "source": [
    "if 60 in benimListem:\n",
    "    print(\"İçinde var\")"
   ]
  },
  {
   "cell_type": "code",
   "execution_count": 4,
   "id": "2926f9ec-6bce-4cec-b4dc-b5fc6e645cab",
   "metadata": {},
   "outputs": [],
   "source": [
    "benimSozluk = {\"muz\":100,\"elma\":50,\"karpuz\":500}"
   ]
  },
  {
   "cell_type": "code",
   "execution_count": 5,
   "id": "3b774216-db46-4cea-9469-8be9a0dafb56",
   "metadata": {},
   "outputs": [],
   "source": [
    "koordinatListesi = [(10,20),(15.2,13.3),(40.2,45.3)]\n",
    "garipKoordinatListesi = [(10,20,45),(15.2,13.3,45.5),(40.2,45.3,45.8)]"
   ]
  },
  {
   "cell_type": "code",
   "execution_count": 6,
   "id": "d2fd8a06-90cf-4e54-8ba8-ec4059cabbd3",
   "metadata": {},
   "outputs": [
    {
     "name": "stdout",
     "output_type": "stream",
     "text": [
      "0\n",
      "1\n",
      "2\n",
      "3\n",
      "4\n"
     ]
    }
   ],
   "source": [
    "for index,i in enumerate(list(range(0,15,3))):\n",
    "    print(index)"
   ]
  },
  {
   "cell_type": "code",
   "execution_count": null,
   "id": "8271ea0b-e305-46f5-b084-0b994bf32993",
   "metadata": {},
   "outputs": [],
   "source": []
  },
  {
   "cell_type": "markdown",
   "id": "4e0caaf6-a14e-4b97-8820-7cea80fa156b",
   "metadata": {},
   "source": [
    "#### Random"
   ]
  },
  {
   "cell_type": "code",
   "execution_count": 7,
   "id": "592bb768-3195-4663-9fff-f6e3fc92fabc",
   "metadata": {},
   "outputs": [],
   "source": [
    "import random"
   ]
  },
  {
   "cell_type": "code",
   "execution_count": 8,
   "id": "7ee394ca-8ed2-488d-b9da-de16c7c4f2d0",
   "metadata": {},
   "outputs": [],
   "source": [
    "yeniListe = list(range(0,10))"
   ]
  },
  {
   "cell_type": "code",
   "execution_count": 9,
   "id": "cd48cdbc-489e-40d0-acc0-286b8fd119a0",
   "metadata": {},
   "outputs": [],
   "source": [
    "random.shuffle(yeniListe)"
   ]
  },
  {
   "cell_type": "code",
   "execution_count": 10,
   "id": "b61820c3-c959-42e2-bd43-5ccc85c4197d",
   "metadata": {},
   "outputs": [
    {
     "data": {
      "text/plain": [
       "[9, 1, 4, 6, 8, 3, 5, 2, 7, 0]"
      ]
     },
     "execution_count": 10,
     "metadata": {},
     "output_type": "execute_result"
    }
   ],
   "source": [
    "yeniListe"
   ]
  },
  {
   "cell_type": "markdown",
   "id": "a25cd8b6-7227-4e18-a5b7-4ebac991ea0e",
   "metadata": {},
   "source": [
    "#### zip"
   ]
  },
  {
   "cell_type": "code",
   "execution_count": 11,
   "id": "0258c8e0-3605-4e4f-b253-60ec661e6774",
   "metadata": {},
   "outputs": [],
   "source": [
    "yemekListesi = [\"Muz\",\"Ananas\",\"Elma\"]\n",
    "kaloriListesi=[100,200,300]\n",
    "gunListesi=[\"pazartesi\",\"sali\",\"carsamba\"]"
   ]
  },
  {
   "cell_type": "code",
   "execution_count": 12,
   "id": "813fcbb3-d7af-4a78-984c-4fe80edff3d8",
   "metadata": {},
   "outputs": [],
   "source": [
    "ziplenmisListe = list(zip(yemekListesi,kaloriListesi,gunListesi))"
   ]
  },
  {
   "cell_type": "code",
   "execution_count": 13,
   "id": "1ff7f1ed-2188-4bc8-b7bd-37f4d585721e",
   "metadata": {},
   "outputs": [
    {
     "name": "stdout",
     "output_type": "stream",
     "text": [
      "Muz\n",
      "Ananas\n",
      "Elma\n"
     ]
    }
   ],
   "source": [
    "for eleman,a,b in ziplenmisListe:\n",
    "    print(eleman)"
   ]
  },
  {
   "cell_type": "markdown",
   "id": "69788f55-193e-4a8a-8748-ecd16556d980",
   "metadata": {},
   "source": [
    "## Listeler"
   ]
  },
  {
   "cell_type": "code",
   "execution_count": 14,
   "id": "110562db-4b01-4011-be5f-08293f949487",
   "metadata": {},
   "outputs": [
    {
     "name": "stdout",
     "output_type": "stream",
     "text": [
      "['D', 'o', 'ğ', 'u', 'k', 'a', 'n', ' ', 'T', 'U', 'N', 'Ç', 'A', 'Y']\n"
     ]
    }
   ],
   "source": [
    "listeOrnegi = []\n",
    "benimString = \"Doğukan TUNÇAY\"\n",
    "\n",
    "for harf in benimString:\n",
    "    listeOrnegi.append(harf)\n",
    "print(listeOrnegi)"
   ]
  },
  {
   "cell_type": "code",
   "execution_count": 15,
   "id": "17b19bf4-5a91-49ac-9986-89bf7a62fb44",
   "metadata": {},
   "outputs": [],
   "source": [
    "yeniString = \"Doğukan TUNÇAY\"\n",
    "yeniListeOrnegi = [eleman for eleman in yeniString]"
   ]
  },
  {
   "cell_type": "code",
   "execution_count": 16,
   "id": "76587c2f-2f86-443b-a145-d23dfc130a5b",
   "metadata": {},
   "outputs": [
    {
     "data": {
      "text/plain": [
       "['D', 'o', 'ğ', 'u', 'k', 'a', 'n', ' ', 'T', 'U', 'N', 'Ç', 'A', 'Y']"
      ]
     },
     "execution_count": 16,
     "metadata": {},
     "output_type": "execute_result"
    }
   ],
   "source": [
    "yeniListeOrnegi"
   ]
  },
  {
   "cell_type": "code",
   "execution_count": 17,
   "id": "12bf0638-ef7f-4719-9f76-3ed6dac65739",
   "metadata": {},
   "outputs": [],
   "source": [
    "ikinciListeOrnegi = [numara*5 for numara in range(10)]"
   ]
  },
  {
   "cell_type": "code",
   "execution_count": 18,
   "id": "4df3217d-15dd-49fe-9885-f44e352f86df",
   "metadata": {},
   "outputs": [
    {
     "data": {
      "text/plain": [
       "[0, 5, 10, 15, 20, 25, 30, 35, 40, 45]"
      ]
     },
     "execution_count": 18,
     "metadata": {},
     "output_type": "execute_result"
    }
   ],
   "source": [
    "ikinciListeOrnegi"
   ]
  },
  {
   "cell_type": "code",
   "execution_count": 19,
   "id": "f48df37c-a80f-40d1-980f-29ecb833f045",
   "metadata": {},
   "outputs": [],
   "source": [
    "def toplama(*args):\n",
    "    return sum(args)"
   ]
  },
  {
   "cell_type": "code",
   "execution_count": 20,
   "id": "4e117a80-1467-48d4-9c11-4a487378285d",
   "metadata": {},
   "outputs": [
    {
     "data": {
      "text/plain": [
       "100"
      ]
     },
     "execution_count": 20,
     "metadata": {},
     "output_type": "execute_result"
    }
   ],
   "source": [
    "toplama(10,20,30,40)"
   ]
  },
  {
   "cell_type": "code",
   "execution_count": 21,
   "id": "d8e749de-a417-48b8-b44f-8778d1c76850",
   "metadata": {},
   "outputs": [],
   "source": [
    "def fonksiyonum(*args):\n",
    "    print(args)"
   ]
  },
  {
   "cell_type": "code",
   "execution_count": 22,
   "id": "c2de6597-a044-4c42-95e2-902917838cf0",
   "metadata": {},
   "outputs": [
    {
     "name": "stdout",
     "output_type": "stream",
     "text": [
      "('asdw', 'a')\n"
     ]
    }
   ],
   "source": [
    "fonksiyonum(\"asdw\",\"a\")"
   ]
  },
  {
   "cell_type": "code",
   "execution_count": 23,
   "id": "9dad7421-903f-4473-b498-0b29e66e6220",
   "metadata": {},
   "outputs": [],
   "source": [
    "def fonksiyon2(**kwargs):\n",
    "    print(kwargs)"
   ]
  },
  {
   "cell_type": "code",
   "execution_count": 24,
   "id": "7bbbbeac-8ea6-44fc-b792-24472493e6d5",
   "metadata": {},
   "outputs": [
    {
     "name": "stdout",
     "output_type": "stream",
     "text": [
      "{'muz': 100, 'elma': 200, 'nar': 300}\n"
     ]
    },
    {
     "data": {
      "text/plain": [
       "NoneType"
      ]
     },
     "execution_count": 24,
     "metadata": {},
     "output_type": "execute_result"
    }
   ],
   "source": [
    "type(fonksiyon2(muz = 100, elma = 200, nar = 300))"
   ]
  },
  {
   "cell_type": "code",
   "execution_count": 25,
   "id": "dd166082-fe2e-47a2-904b-ac2d13fb036a",
   "metadata": {},
   "outputs": [],
   "source": [
    "benimListem = [x for x in range(10)]"
   ]
  },
  {
   "cell_type": "code",
   "execution_count": 26,
   "id": "5c65daa4-4a5b-4a74-94d0-97fcfbf793cf",
   "metadata": {},
   "outputs": [],
   "source": [
    "yeniListe=[]\n",
    "for eleman in benimListem:\n",
    "    yeniListe.append(eleman*2)"
   ]
  },
  {
   "cell_type": "code",
   "execution_count": 27,
   "id": "bc790e8b-b306-4050-bd9c-ecc4fbbaa6cf",
   "metadata": {},
   "outputs": [],
   "source": [
    "def bolmeIslemi(numara):\n",
    "    return numara/2"
   ]
  },
  {
   "cell_type": "code",
   "execution_count": 28,
   "id": "7548c21e-2883-465d-8a49-1f77c60cf4cf",
   "metadata": {},
   "outputs": [
    {
     "data": {
      "text/plain": [
       "[0.0, 0.5, 1.0, 1.5, 2.0, 2.5, 3.0, 3.5, 4.0, 4.5]"
      ]
     },
     "execution_count": 28,
     "metadata": {},
     "output_type": "execute_result"
    }
   ],
   "source": [
    "yeniListe = list(map(bolmeIslemi,benimListem))\n",
    "yeniListe"
   ]
  },
  {
   "cell_type": "code",
   "execution_count": 29,
   "id": "a9efad7a-3e05-437b-99f7-86c90be10940",
   "metadata": {},
   "outputs": [],
   "source": [
    "carpma = lambda numara : numara *3"
   ]
  },
  {
   "cell_type": "code",
   "execution_count": 30,
   "id": "93bcbf58-9c50-4e5b-bbf9-81ee6127579d",
   "metadata": {},
   "outputs": [
    {
     "data": {
      "text/plain": [
       "30"
      ]
     },
     "execution_count": 30,
     "metadata": {},
     "output_type": "execute_result"
    }
   ],
   "source": [
    "carpma(10)"
   ]
  },
  {
   "cell_type": "code",
   "execution_count": 31,
   "id": "8b9840a7-afb5-4142-95bf-2c8156d146ef",
   "metadata": {},
   "outputs": [],
   "source": [
    "numara = 20\n",
    "def carpma(rakam):\n",
    "    global numara\n",
    "    numara  = 10\n",
    "    return numara*rakam"
   ]
  },
  {
   "cell_type": "code",
   "execution_count": 32,
   "id": "addfbae8-3ba0-4916-8482-a80517952bcf",
   "metadata": {},
   "outputs": [
    {
     "data": {
      "text/plain": [
       "200"
      ]
     },
     "execution_count": 32,
     "metadata": {},
     "output_type": "execute_result"
    }
   ],
   "source": [
    "carpma(numara)"
   ]
  },
  {
   "cell_type": "code",
   "execution_count": 33,
   "id": "fc89f46d-2096-4e04-ba0e-8a4d7801aa22",
   "metadata": {},
   "outputs": [
    {
     "data": {
      "text/plain": [
       "10"
      ]
     },
     "execution_count": 33,
     "metadata": {},
     "output_type": "execute_result"
    }
   ],
   "source": [
    "numara"
   ]
  },
  {
   "cell_type": "code",
   "execution_count": 54,
   "id": "1d7af409-5637-4958-b2d0-99d43de1d844",
   "metadata": {},
   "outputs": [],
   "source": [
    "class Meyve():\n",
    "    def __init__(self,isim,kalori):\n",
    "        self.isim = isim\n",
    "        self.kalori = kalori\n",
    "    def __str__(self):\n",
    "        return f\"{self.isim} şu kadar kaloriye sahiptir : {self.kalori}\"\n",
    "    def __len__(self):\n",
    "        return self.kalori"
   ]
  },
  {
   "cell_type": "code",
   "execution_count": 55,
   "id": "1b791316-1686-4d8a-8314-27e32c23a8ec",
   "metadata": {},
   "outputs": [],
   "source": [
    "muz = Meyve(\"muz\",150)"
   ]
  },
  {
   "cell_type": "code",
   "execution_count": 36,
   "id": "46478f1b-b754-49b0-b2fd-83c1203e88f8",
   "metadata": {},
   "outputs": [
    {
     "data": {
      "text/plain": [
       "'muz'"
      ]
     },
     "execution_count": 36,
     "metadata": {},
     "output_type": "execute_result"
    }
   ],
   "source": [
    "muz.isim"
   ]
  },
  {
   "cell_type": "code",
   "execution_count": 56,
   "id": "97c277fa-cfcc-48dd-9b6b-38554cf5ae45",
   "metadata": {},
   "outputs": [
    {
     "data": {
      "text/plain": [
       "<__main__.Meyve at 0x2108771fa10>"
      ]
     },
     "execution_count": 56,
     "metadata": {},
     "output_type": "execute_result"
    }
   ],
   "source": [
    "muz"
   ]
  },
  {
   "cell_type": "code",
   "execution_count": 57,
   "id": "ef3c6fc9-1d1d-4125-985b-980bfa35d2cd",
   "metadata": {},
   "outputs": [
    {
     "name": "stdout",
     "output_type": "stream",
     "text": [
      "muz şu kadar kaloriye sahiptir : 150\n"
     ]
    }
   ],
   "source": [
    "print(muz)"
   ]
  },
  {
   "cell_type": "code",
   "execution_count": 39,
   "id": "8f3a0c61-3b14-42f2-89c3-bebc148942c7",
   "metadata": {},
   "outputs": [],
   "source": [
    "benimListem=[1,2,3,3.45]"
   ]
  },
  {
   "cell_type": "code",
   "execution_count": 40,
   "id": "69f1c3d7-8113-4247-8db0-ed5613eb1bd8",
   "metadata": {},
   "outputs": [
    {
     "name": "stdout",
     "output_type": "stream",
     "text": [
      "[1, 2, 3, 3.45]\n"
     ]
    }
   ],
   "source": [
    "print(benimListem)"
   ]
  },
  {
   "cell_type": "code",
   "execution_count": 58,
   "id": "087bb7e7-8b7a-4f61-8923-b752075071f0",
   "metadata": {},
   "outputs": [],
   "source": [
    "def toplama(numara1,numara2):\n",
    "    return numara1+numara2"
   ]
  },
  {
   "cell_type": "code",
   "execution_count": 59,
   "id": "a507af51-4203-4625-bb5f-cae4f30cd78d",
   "metadata": {},
   "outputs": [
    {
     "name": "stdin",
     "output_type": "stream",
     "text": [
      "Birinci Numarayı Girin 10\n",
      "İkinci Numarayı Girin 20\n"
     ]
    },
    {
     "data": {
      "text/plain": [
       "30"
      ]
     },
     "execution_count": 59,
     "metadata": {},
     "output_type": "execute_result"
    }
   ],
   "source": [
    "x=int(input(\"Birinci Numarayı Girin\"))\n",
    "y=int(input(\"İkinci Numarayı Girin\"))\n",
    "toplama(x,y)"
   ]
  },
  {
   "cell_type": "code",
   "execution_count": null,
   "id": "5bf05d97-5f4d-4ef7-8c6e-01bfe4911fd5",
   "metadata": {},
   "outputs": [
    {
     "name": "stdin",
     "output_type": "stream",
     "text": [
      "Numara Girin:  a\n"
     ]
    },
    {
     "name": "stdout",
     "output_type": "stream",
     "text": [
      "Lütfen Gerçekten Numara Giriniz.\n"
     ]
    },
    {
     "name": "stdin",
     "output_type": "stream",
     "text": [
      "Numara Girin:  12\n",
      "Numara Girin:  asdw\n"
     ]
    },
    {
     "name": "stdout",
     "output_type": "stream",
     "text": [
      "Lütfen Gerçekten Numara Giriniz.\n"
     ]
    },
    {
     "name": "stdin",
     "output_type": "stream",
     "text": [
      "Numara Girin:  1\n",
      "Numara Girin:  5\n"
     ]
    }
   ],
   "source": []
  },
  {
   "cell_type": "code",
   "execution_count": null,
   "id": "dbf4c79d-5794-4a71-9c9b-53a9dfa060fd",
   "metadata": {},
   "outputs": [],
   "source": []
  }
 ],
 "metadata": {
  "kernelspec": {
   "display_name": "Python 3 (ipykernel)",
   "language": "python",
   "name": "python3"
  },
  "language_info": {
   "codemirror_mode": {
    "name": "ipython",
    "version": 3
   },
   "file_extension": ".py",
   "mimetype": "text/x-python",
   "name": "python",
   "nbconvert_exporter": "python",
   "pygments_lexer": "ipython3",
   "version": "3.11.7"
  }
 },
 "nbformat": 4,
 "nbformat_minor": 5
}
